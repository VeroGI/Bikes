{
 "cells": [
  {
   "cell_type": "markdown",
   "id": "47faf365",
   "metadata": {},
   "source": [
    "\n",
    "## Buenos Aires Public Bicycle System Analysis: Data Preparation for Power BI\n",
    "\n",
    "This project documents the **Extract, Transform, and Load (ETL)** process for a public dataset detailing bicycle trips within Buenos Aires' public bike-sharing system.\n",
    "\n",
    "The primary goal is to **clean and structure** this raw data for subsequent visualization in an **interactive Power BI dashboard**. Through this process, we aim not only to understand the dataset's composition but also to perform a **brief initial exploratory analysis** to reveal key patterns and trends.\n",
    "\n"
   ]
  },
  {
   "cell_type": "code",
   "execution_count": 35,
   "id": "de9c4b9b",
   "metadata": {},
   "outputs": [
    {
     "name": "stdout",
     "output_type": "stream",
     "text": [
      "Requirement already satisfied: pandas in c:\\python310\\lib\\site-packages (1.4.4)\n",
      "Requirement already satisfied: holidays in c:\\python310\\lib\\site-packages (0.77)\n",
      "Requirement already satisfied: python-dateutil>=2.8.1 in c:\\python310\\lib\\site-packages (from pandas) (2.8.2)\n",
      "Requirement already satisfied: pytz>=2020.1 in c:\\python310\\lib\\site-packages (from pandas) (2022.2.1)\n",
      "Requirement already satisfied: numpy>=1.21.0 in c:\\python310\\lib\\site-packages (from pandas) (1.26.2)\n",
      "Requirement already satisfied: six>=1.5 in c:\\python310\\lib\\site-packages (from python-dateutil>=2.8.1->pandas) (1.16.0)\n",
      "Note: you may need to restart the kernel to use updated packages.\n"
     ]
    },
    {
     "name": "stderr",
     "output_type": "stream",
     "text": [
      "\n",
      "[notice] A new release of pip is available: 24.3.1 -> 25.1.1\n",
      "[notice] To update, run: python.exe -m pip install --upgrade pip\n"
     ]
    }
   ],
   "source": [
    "%pip install pandas holidays\n",
    "import holidays\n",
    "import pandas as pd\n",
    "import os"
   ]
  },
  {
   "cell_type": "code",
   "execution_count": 36,
   "id": "3d3733f4",
   "metadata": {},
   "outputs": [],
   "source": [
    "# Loading the dataset\n",
    "file_path = os.path.join('data', 'badata_ecobici_recorridos_realizados_2024.csv')\n",
    "\n",
    "# Load the DataFrame using the relative path\n",
    "df = pd.read_csv(file_path, sep=',', encoding='utf-8')\n"
   ]
  },
  {
   "cell_type": "code",
   "execution_count": 37,
   "id": "59288940",
   "metadata": {},
   "outputs": [
    {
     "data": {
      "text/html": [
       "<div>\n",
       "<style scoped>\n",
       "    .dataframe tbody tr th:only-of-type {\n",
       "        vertical-align: middle;\n",
       "    }\n",
       "\n",
       "    .dataframe tbody tr th {\n",
       "        vertical-align: top;\n",
       "    }\n",
       "\n",
       "    .dataframe thead th {\n",
       "        text-align: right;\n",
       "    }\n",
       "</style>\n",
       "<table border=\"1\" class=\"dataframe\">\n",
       "  <thead>\n",
       "    <tr style=\"text-align: right;\">\n",
       "      <th></th>\n",
       "      <th>id_recorrido</th>\n",
       "      <th>duracion_recorrido</th>\n",
       "      <th>fecha_origen_recorrido</th>\n",
       "      <th>id_estacion_origen</th>\n",
       "      <th>nombre_estacion_origen</th>\n",
       "      <th>direccion_estacion_origen</th>\n",
       "      <th>long_estacion_origen</th>\n",
       "      <th>lat_estacion_origen</th>\n",
       "      <th>fecha_destino_recorrido</th>\n",
       "      <th>id_estacion_destino</th>\n",
       "      <th>nombre_estacion_destino</th>\n",
       "      <th>direccion_estacion_destino</th>\n",
       "      <th>long_estacion_destino</th>\n",
       "      <th>lat_estacion_destino</th>\n",
       "      <th>id_usuario</th>\n",
       "      <th>modelo_bicicleta</th>\n",
       "      <th>genero</th>\n",
       "    </tr>\n",
       "  </thead>\n",
       "  <tbody>\n",
       "    <tr>\n",
       "      <th>0</th>\n",
       "      <td>20428222</td>\n",
       "      <td>568</td>\n",
       "      <td>2024-01-23 18:36:00</td>\n",
       "      <td>513</td>\n",
       "      <td>308 - SAN MARTIN II</td>\n",
       "      <td>Av. San Martín 5129</td>\n",
       "      <td>-58.490739</td>\n",
       "      <td>-34.597130</td>\n",
       "      <td>2024-01-23 18:45:28</td>\n",
       "      <td>498</td>\n",
       "      <td>055 - HABANA</td>\n",
       "      <td>Gral. José Gervasio Artigas 4298 (y Habana)</td>\n",
       "      <td>-58.494959</td>\n",
       "      <td>-34.586598</td>\n",
       "      <td>992557.0</td>\n",
       "      <td>FIT</td>\n",
       "      <td>MALE</td>\n",
       "    </tr>\n",
       "    <tr>\n",
       "      <th>1</th>\n",
       "      <td>20431744</td>\n",
       "      <td>1355</td>\n",
       "      <td>2024-01-23 22:41:20</td>\n",
       "      <td>460</td>\n",
       "      <td>133 - BEIRO Y SEGUROLA</td>\n",
       "      <td>Segurola 3194</td>\n",
       "      <td>-58.511930</td>\n",
       "      <td>-34.607500</td>\n",
       "      <td>2024-01-23 23:03:55</td>\n",
       "      <td>382</td>\n",
       "      <td>204 - Biarritz</td>\n",
       "      <td>Biarritz 2403</td>\n",
       "      <td>-58.477255</td>\n",
       "      <td>-34.605431</td>\n",
       "      <td>320782.0</td>\n",
       "      <td>FIT</td>\n",
       "      <td>FEMALE</td>\n",
       "    </tr>\n",
       "    <tr>\n",
       "      <th>2</th>\n",
       "      <td>20429936</td>\n",
       "      <td>0</td>\n",
       "      <td>2024-01-23 20:06:22</td>\n",
       "      <td>467</td>\n",
       "      <td>328 - SARMIENTO II</td>\n",
       "      <td>Sarmiento 2037</td>\n",
       "      <td>-58.395893</td>\n",
       "      <td>-34.605514</td>\n",
       "      <td>2024-01-23 20:06:22</td>\n",
       "      <td>6</td>\n",
       "      <td>006 - Parque Lezama</td>\n",
       "      <td>Avenida Martin Garcia, 295</td>\n",
       "      <td>-58.369758</td>\n",
       "      <td>-34.628526</td>\n",
       "      <td>828678.0</td>\n",
       "      <td>FIT</td>\n",
       "      <td>FEMALE</td>\n",
       "    </tr>\n",
       "    <tr>\n",
       "      <th>3</th>\n",
       "      <td>20429976</td>\n",
       "      <td>0</td>\n",
       "      <td>2024-01-23 20:08:17</td>\n",
       "      <td>382</td>\n",
       "      <td>204 - Biarritz</td>\n",
       "      <td>Biarritz 2403</td>\n",
       "      <td>-58.477255</td>\n",
       "      <td>-34.605431</td>\n",
       "      <td>2024-01-23 20:08:17</td>\n",
       "      <td>460</td>\n",
       "      <td>133 - BEIRO Y SEGUROLA</td>\n",
       "      <td>Segurola 3194</td>\n",
       "      <td>-58.511930</td>\n",
       "      <td>-34.607500</td>\n",
       "      <td>320782.0</td>\n",
       "      <td>ICONIC</td>\n",
       "      <td>FEMALE</td>\n",
       "    </tr>\n",
       "    <tr>\n",
       "      <th>4</th>\n",
       "      <td>20424802</td>\n",
       "      <td>680</td>\n",
       "      <td>2024-01-23 15:18:39</td>\n",
       "      <td>137</td>\n",
       "      <td>137 - AZOPARDO Y CHILE</td>\n",
       "      <td>AZOPARDO 700</td>\n",
       "      <td>-58.367492</td>\n",
       "      <td>-34.615598</td>\n",
       "      <td>2024-01-23 15:29:59</td>\n",
       "      <td>150</td>\n",
       "      <td>150 - RODRIGO BUENO</td>\n",
       "      <td>Av. España 2200</td>\n",
       "      <td>-58.355465</td>\n",
       "      <td>-34.618755</td>\n",
       "      <td>861425.0</td>\n",
       "      <td>FIT</td>\n",
       "      <td>FEMALE</td>\n",
       "    </tr>\n",
       "  </tbody>\n",
       "</table>\n",
       "</div>"
      ],
      "text/plain": [
       "   id_recorrido  duracion_recorrido fecha_origen_recorrido  \\\n",
       "0      20428222                 568    2024-01-23 18:36:00   \n",
       "1      20431744                1355    2024-01-23 22:41:20   \n",
       "2      20429936                   0    2024-01-23 20:06:22   \n",
       "3      20429976                   0    2024-01-23 20:08:17   \n",
       "4      20424802                 680    2024-01-23 15:18:39   \n",
       "\n",
       "   id_estacion_origen  nombre_estacion_origen direccion_estacion_origen  \\\n",
       "0                 513     308 - SAN MARTIN II       Av. San Martín 5129   \n",
       "1                 460  133 - BEIRO Y SEGUROLA             Segurola 3194   \n",
       "2                 467      328 - SARMIENTO II            Sarmiento 2037   \n",
       "3                 382          204 - Biarritz             Biarritz 2403   \n",
       "4                 137  137 - AZOPARDO Y CHILE              AZOPARDO 700   \n",
       "\n",
       "   long_estacion_origen  lat_estacion_origen fecha_destino_recorrido  \\\n",
       "0            -58.490739           -34.597130     2024-01-23 18:45:28   \n",
       "1            -58.511930           -34.607500     2024-01-23 23:03:55   \n",
       "2            -58.395893           -34.605514     2024-01-23 20:06:22   \n",
       "3            -58.477255           -34.605431     2024-01-23 20:08:17   \n",
       "4            -58.367492           -34.615598     2024-01-23 15:29:59   \n",
       "\n",
       "   id_estacion_destino nombre_estacion_destino  \\\n",
       "0                  498            055 - HABANA   \n",
       "1                  382          204 - Biarritz   \n",
       "2                    6     006 - Parque Lezama   \n",
       "3                  460  133 - BEIRO Y SEGUROLA   \n",
       "4                  150     150 - RODRIGO BUENO   \n",
       "\n",
       "                    direccion_estacion_destino  long_estacion_destino  \\\n",
       "0  Gral. José Gervasio Artigas 4298 (y Habana)             -58.494959   \n",
       "1                                Biarritz 2403             -58.477255   \n",
       "2                   Avenida Martin Garcia, 295             -58.369758   \n",
       "3                                Segurola 3194             -58.511930   \n",
       "4                              Av. España 2200             -58.355465   \n",
       "\n",
       "   lat_estacion_destino  id_usuario modelo_bicicleta  genero  \n",
       "0            -34.586598    992557.0              FIT    MALE  \n",
       "1            -34.605431    320782.0              FIT  FEMALE  \n",
       "2            -34.628526    828678.0              FIT  FEMALE  \n",
       "3            -34.607500    320782.0           ICONIC  FEMALE  \n",
       "4            -34.618755    861425.0              FIT  FEMALE  "
      ]
     },
     "execution_count": 37,
     "metadata": {},
     "output_type": "execute_result"
    }
   ],
   "source": [
    "# Exploring the dataset\n",
    "df.head()"
   ]
  },
  {
   "cell_type": "code",
   "execution_count": 38,
   "id": "a922201b",
   "metadata": {},
   "outputs": [
    {
     "data": {
      "text/plain": [
       "(3559284, 17)"
      ]
     },
     "execution_count": 38,
     "metadata": {},
     "output_type": "execute_result"
    }
   ],
   "source": [
    "df.shape"
   ]
  },
  {
   "cell_type": "code",
   "execution_count": 39,
   "id": "a6083ebf",
   "metadata": {},
   "outputs": [
    {
     "data": {
      "text/plain": [
       "id_recorrido                    int64\n",
       "duracion_recorrido              int64\n",
       "fecha_origen_recorrido         object\n",
       "id_estacion_origen              int64\n",
       "nombre_estacion_origen         object\n",
       "direccion_estacion_origen      object\n",
       "long_estacion_origen          float64\n",
       "lat_estacion_origen           float64\n",
       "fecha_destino_recorrido        object\n",
       "id_estacion_destino             int64\n",
       "nombre_estacion_destino        object\n",
       "direccion_estacion_destino     object\n",
       "long_estacion_destino         float64\n",
       "lat_estacion_destino          float64\n",
       "id_usuario                    float64\n",
       "modelo_bicicleta               object\n",
       "genero                         object\n",
       "dtype: object"
      ]
     },
     "execution_count": 39,
     "metadata": {},
     "output_type": "execute_result"
    }
   ],
   "source": [
    "df.dtypes"
   ]
  },
  {
   "cell_type": "code",
   "execution_count": 40,
   "id": "8eac5650",
   "metadata": {},
   "outputs": [
    {
     "data": {
      "text/html": [
       "<div>\n",
       "<style scoped>\n",
       "    .dataframe tbody tr th:only-of-type {\n",
       "        vertical-align: middle;\n",
       "    }\n",
       "\n",
       "    .dataframe tbody tr th {\n",
       "        vertical-align: top;\n",
       "    }\n",
       "\n",
       "    .dataframe thead th {\n",
       "        text-align: right;\n",
       "    }\n",
       "</style>\n",
       "<table border=\"1\" class=\"dataframe\">\n",
       "  <thead>\n",
       "    <tr style=\"text-align: right;\">\n",
       "      <th></th>\n",
       "      <th>id_recorrido</th>\n",
       "      <th>duracion_recorrido</th>\n",
       "      <th>fecha_origen_recorrido</th>\n",
       "      <th>id_estacion_origen</th>\n",
       "      <th>nombre_estacion_origen</th>\n",
       "      <th>direccion_estacion_origen</th>\n",
       "      <th>long_estacion_origen</th>\n",
       "      <th>lat_estacion_origen</th>\n",
       "      <th>fecha_destino_recorrido</th>\n",
       "      <th>id_estacion_destino</th>\n",
       "      <th>nombre_estacion_destino</th>\n",
       "      <th>direccion_estacion_destino</th>\n",
       "      <th>long_estacion_destino</th>\n",
       "      <th>lat_estacion_destino</th>\n",
       "      <th>id_usuario</th>\n",
       "      <th>modelo_bicicleta</th>\n",
       "      <th>genero</th>\n",
       "    </tr>\n",
       "  </thead>\n",
       "  <tbody>\n",
       "    <tr>\n",
       "      <th>0</th>\n",
       "      <td>20428222</td>\n",
       "      <td>568</td>\n",
       "      <td>2024-01-23 18:36:00</td>\n",
       "      <td>513</td>\n",
       "      <td>308 - SAN MARTIN II</td>\n",
       "      <td>Av. San Martín 5129</td>\n",
       "      <td>-58.490739</td>\n",
       "      <td>-34.597130</td>\n",
       "      <td>2024-01-23 18:45:28</td>\n",
       "      <td>498</td>\n",
       "      <td>055 - HABANA</td>\n",
       "      <td>Gral. José Gervasio Artigas 4298 (y Habana)</td>\n",
       "      <td>-58.494959</td>\n",
       "      <td>-34.586598</td>\n",
       "      <td>992557.0</td>\n",
       "      <td>FIT</td>\n",
       "      <td>MALE</td>\n",
       "    </tr>\n",
       "    <tr>\n",
       "      <th>1</th>\n",
       "      <td>20431744</td>\n",
       "      <td>1355</td>\n",
       "      <td>2024-01-23 22:41:20</td>\n",
       "      <td>460</td>\n",
       "      <td>133 - BEIRO Y SEGUROLA</td>\n",
       "      <td>Segurola 3194</td>\n",
       "      <td>-58.511930</td>\n",
       "      <td>-34.607500</td>\n",
       "      <td>2024-01-23 23:03:55</td>\n",
       "      <td>382</td>\n",
       "      <td>204 - Biarritz</td>\n",
       "      <td>Biarritz 2403</td>\n",
       "      <td>-58.477255</td>\n",
       "      <td>-34.605431</td>\n",
       "      <td>320782.0</td>\n",
       "      <td>FIT</td>\n",
       "      <td>FEMALE</td>\n",
       "    </tr>\n",
       "    <tr>\n",
       "      <th>2</th>\n",
       "      <td>20429936</td>\n",
       "      <td>0</td>\n",
       "      <td>2024-01-23 20:06:22</td>\n",
       "      <td>467</td>\n",
       "      <td>328 - SARMIENTO II</td>\n",
       "      <td>Sarmiento 2037</td>\n",
       "      <td>-58.395893</td>\n",
       "      <td>-34.605514</td>\n",
       "      <td>2024-01-23 20:06:22</td>\n",
       "      <td>6</td>\n",
       "      <td>006 - Parque Lezama</td>\n",
       "      <td>Avenida Martin Garcia, 295</td>\n",
       "      <td>-58.369758</td>\n",
       "      <td>-34.628526</td>\n",
       "      <td>828678.0</td>\n",
       "      <td>FIT</td>\n",
       "      <td>FEMALE</td>\n",
       "    </tr>\n",
       "    <tr>\n",
       "      <th>3</th>\n",
       "      <td>20429976</td>\n",
       "      <td>0</td>\n",
       "      <td>2024-01-23 20:08:17</td>\n",
       "      <td>382</td>\n",
       "      <td>204 - Biarritz</td>\n",
       "      <td>Biarritz 2403</td>\n",
       "      <td>-58.477255</td>\n",
       "      <td>-34.605431</td>\n",
       "      <td>2024-01-23 20:08:17</td>\n",
       "      <td>460</td>\n",
       "      <td>133 - BEIRO Y SEGUROLA</td>\n",
       "      <td>Segurola 3194</td>\n",
       "      <td>-58.511930</td>\n",
       "      <td>-34.607500</td>\n",
       "      <td>320782.0</td>\n",
       "      <td>ICONIC</td>\n",
       "      <td>FEMALE</td>\n",
       "    </tr>\n",
       "    <tr>\n",
       "      <th>4</th>\n",
       "      <td>20424802</td>\n",
       "      <td>680</td>\n",
       "      <td>2024-01-23 15:18:39</td>\n",
       "      <td>137</td>\n",
       "      <td>137 - AZOPARDO Y CHILE</td>\n",
       "      <td>AZOPARDO 700</td>\n",
       "      <td>-58.367492</td>\n",
       "      <td>-34.615598</td>\n",
       "      <td>2024-01-23 15:29:59</td>\n",
       "      <td>150</td>\n",
       "      <td>150 - RODRIGO BUENO</td>\n",
       "      <td>Av. España 2200</td>\n",
       "      <td>-58.355465</td>\n",
       "      <td>-34.618755</td>\n",
       "      <td>861425.0</td>\n",
       "      <td>FIT</td>\n",
       "      <td>FEMALE</td>\n",
       "    </tr>\n",
       "    <tr>\n",
       "      <th>5</th>\n",
       "      <td>20427241</td>\n",
       "      <td>466</td>\n",
       "      <td>2024-01-23 17:48:05</td>\n",
       "      <td>99</td>\n",
       "      <td>099 - Malabia</td>\n",
       "      <td>780 Malabia &amp; Loyola</td>\n",
       "      <td>-58.435408</td>\n",
       "      <td>-34.596096</td>\n",
       "      <td>2024-01-23 17:55:51</td>\n",
       "      <td>206</td>\n",
       "      <td>159 - Fitz Roy &amp; Gorriti</td>\n",
       "      <td>Fitz Roy &amp; Gorriti</td>\n",
       "      <td>-58.437339</td>\n",
       "      <td>-34.584950</td>\n",
       "      <td>320714.0</td>\n",
       "      <td>FIT</td>\n",
       "      <td>OTHER</td>\n",
       "    </tr>\n",
       "    <tr>\n",
       "      <th>6</th>\n",
       "      <td>20431004</td>\n",
       "      <td>1176</td>\n",
       "      <td>2024-01-23 21:17:38</td>\n",
       "      <td>68</td>\n",
       "      <td>105 - PARQUE SAAVEDRA</td>\n",
       "      <td>García del Río 3590</td>\n",
       "      <td>-58.480464</td>\n",
       "      <td>-34.552148</td>\n",
       "      <td>2024-01-23 21:37:14</td>\n",
       "      <td>68</td>\n",
       "      <td>105 - PARQUE SAAVEDRA</td>\n",
       "      <td>García del Río 3590</td>\n",
       "      <td>-58.480464</td>\n",
       "      <td>-34.552148</td>\n",
       "      <td>1041602.0</td>\n",
       "      <td>ICONIC</td>\n",
       "      <td>MALE</td>\n",
       "    </tr>\n",
       "    <tr>\n",
       "      <th>7</th>\n",
       "      <td>20431427</td>\n",
       "      <td>1906</td>\n",
       "      <td>2024-01-23 22:03:46</td>\n",
       "      <td>17</td>\n",
       "      <td>017 - Plaza Almagro</td>\n",
       "      <td>441 Bulnes &amp; Peron, Juan Domingo, Tte. General</td>\n",
       "      <td>-58.418731</td>\n",
       "      <td>-34.606410</td>\n",
       "      <td>2024-01-23 22:35:32</td>\n",
       "      <td>186</td>\n",
       "      <td>186 - MANZANA 66</td>\n",
       "      <td>2875 Moreno</td>\n",
       "      <td>-58.406441</td>\n",
       "      <td>-34.613636</td>\n",
       "      <td>992479.0</td>\n",
       "      <td>FIT</td>\n",
       "      <td>FEMALE</td>\n",
       "    </tr>\n",
       "    <tr>\n",
       "      <th>8</th>\n",
       "      <td>20429542</td>\n",
       "      <td>695</td>\n",
       "      <td>2024-01-23 19:44:05</td>\n",
       "      <td>284</td>\n",
       "      <td>229 - RIGLOS</td>\n",
       "      <td>1019 Riglos</td>\n",
       "      <td>-58.435056</td>\n",
       "      <td>-34.631018</td>\n",
       "      <td>2024-01-23 19:55:40</td>\n",
       "      <td>432</td>\n",
       "      <td>187 - Jose Maria Moreno</td>\n",
       "      <td>141 Jose Maria Moreno</td>\n",
       "      <td>-58.435801</td>\n",
       "      <td>-34.619879</td>\n",
       "      <td>320688.0</td>\n",
       "      <td>FIT</td>\n",
       "      <td>FEMALE</td>\n",
       "    </tr>\n",
       "    <tr>\n",
       "      <th>9</th>\n",
       "      <td>20431142</td>\n",
       "      <td>492</td>\n",
       "      <td>2024-01-23 21:31:25</td>\n",
       "      <td>432</td>\n",
       "      <td>187 - Jose Maria Moreno</td>\n",
       "      <td>141 Jose Maria Moreno</td>\n",
       "      <td>-58.435801</td>\n",
       "      <td>-34.619879</td>\n",
       "      <td>2024-01-23 21:39:37</td>\n",
       "      <td>284</td>\n",
       "      <td>229 - RIGLOS</td>\n",
       "      <td>1019 Riglos</td>\n",
       "      <td>-58.435056</td>\n",
       "      <td>-34.631018</td>\n",
       "      <td>320688.0</td>\n",
       "      <td>FIT</td>\n",
       "      <td>FEMALE</td>\n",
       "    </tr>\n",
       "  </tbody>\n",
       "</table>\n",
       "</div>"
      ],
      "text/plain": [
       "   id_recorrido  duracion_recorrido fecha_origen_recorrido  \\\n",
       "0      20428222                 568    2024-01-23 18:36:00   \n",
       "1      20431744                1355    2024-01-23 22:41:20   \n",
       "2      20429936                   0    2024-01-23 20:06:22   \n",
       "3      20429976                   0    2024-01-23 20:08:17   \n",
       "4      20424802                 680    2024-01-23 15:18:39   \n",
       "5      20427241                 466    2024-01-23 17:48:05   \n",
       "6      20431004                1176    2024-01-23 21:17:38   \n",
       "7      20431427                1906    2024-01-23 22:03:46   \n",
       "8      20429542                 695    2024-01-23 19:44:05   \n",
       "9      20431142                 492    2024-01-23 21:31:25   \n",
       "\n",
       "   id_estacion_origen   nombre_estacion_origen  \\\n",
       "0                 513      308 - SAN MARTIN II   \n",
       "1                 460   133 - BEIRO Y SEGUROLA   \n",
       "2                 467       328 - SARMIENTO II   \n",
       "3                 382           204 - Biarritz   \n",
       "4                 137   137 - AZOPARDO Y CHILE   \n",
       "5                  99            099 - Malabia   \n",
       "6                  68    105 - PARQUE SAAVEDRA   \n",
       "7                  17      017 - Plaza Almagro   \n",
       "8                 284             229 - RIGLOS   \n",
       "9                 432  187 - Jose Maria Moreno   \n",
       "\n",
       "                        direccion_estacion_origen  long_estacion_origen  \\\n",
       "0                             Av. San Martín 5129            -58.490739   \n",
       "1                                   Segurola 3194            -58.511930   \n",
       "2                                  Sarmiento 2037            -58.395893   \n",
       "3                                   Biarritz 2403            -58.477255   \n",
       "4                                    AZOPARDO 700            -58.367492   \n",
       "5                            780 Malabia & Loyola            -58.435408   \n",
       "6                             García del Río 3590            -58.480464   \n",
       "7  441 Bulnes & Peron, Juan Domingo, Tte. General            -58.418731   \n",
       "8                                     1019 Riglos            -58.435056   \n",
       "9                           141 Jose Maria Moreno            -58.435801   \n",
       "\n",
       "   lat_estacion_origen fecha_destino_recorrido  id_estacion_destino  \\\n",
       "0           -34.597130     2024-01-23 18:45:28                  498   \n",
       "1           -34.607500     2024-01-23 23:03:55                  382   \n",
       "2           -34.605514     2024-01-23 20:06:22                    6   \n",
       "3           -34.605431     2024-01-23 20:08:17                  460   \n",
       "4           -34.615598     2024-01-23 15:29:59                  150   \n",
       "5           -34.596096     2024-01-23 17:55:51                  206   \n",
       "6           -34.552148     2024-01-23 21:37:14                   68   \n",
       "7           -34.606410     2024-01-23 22:35:32                  186   \n",
       "8           -34.631018     2024-01-23 19:55:40                  432   \n",
       "9           -34.619879     2024-01-23 21:39:37                  284   \n",
       "\n",
       "    nombre_estacion_destino                   direccion_estacion_destino  \\\n",
       "0              055 - HABANA  Gral. José Gervasio Artigas 4298 (y Habana)   \n",
       "1            204 - Biarritz                                Biarritz 2403   \n",
       "2       006 - Parque Lezama                   Avenida Martin Garcia, 295   \n",
       "3    133 - BEIRO Y SEGUROLA                                Segurola 3194   \n",
       "4       150 - RODRIGO BUENO                              Av. España 2200   \n",
       "5  159 - Fitz Roy & Gorriti                           Fitz Roy & Gorriti   \n",
       "6     105 - PARQUE SAAVEDRA                          García del Río 3590   \n",
       "7          186 - MANZANA 66                                  2875 Moreno   \n",
       "8   187 - Jose Maria Moreno                        141 Jose Maria Moreno   \n",
       "9              229 - RIGLOS                                  1019 Riglos   \n",
       "\n",
       "   long_estacion_destino  lat_estacion_destino  id_usuario modelo_bicicleta  \\\n",
       "0             -58.494959            -34.586598    992557.0              FIT   \n",
       "1             -58.477255            -34.605431    320782.0              FIT   \n",
       "2             -58.369758            -34.628526    828678.0              FIT   \n",
       "3             -58.511930            -34.607500    320782.0           ICONIC   \n",
       "4             -58.355465            -34.618755    861425.0              FIT   \n",
       "5             -58.437339            -34.584950    320714.0              FIT   \n",
       "6             -58.480464            -34.552148   1041602.0           ICONIC   \n",
       "7             -58.406441            -34.613636    992479.0              FIT   \n",
       "8             -58.435801            -34.619879    320688.0              FIT   \n",
       "9             -58.435056            -34.631018    320688.0              FIT   \n",
       "\n",
       "   genero  \n",
       "0    MALE  \n",
       "1  FEMALE  \n",
       "2  FEMALE  \n",
       "3  FEMALE  \n",
       "4  FEMALE  \n",
       "5   OTHER  \n",
       "6    MALE  \n",
       "7  FEMALE  \n",
       "8  FEMALE  \n",
       "9  FEMALE  "
      ]
     },
     "execution_count": 40,
     "metadata": {},
     "output_type": "execute_result"
    }
   ],
   "source": [
    "df.head(10)"
   ]
  },
  {
   "cell_type": "code",
   "execution_count": 41,
   "id": "70f872fe",
   "metadata": {},
   "outputs": [
    {
     "name": "stdout",
     "output_type": "stream",
     "text": [
      "Missing Values by Column:\n",
      "fecha_destino_recorrido     3379\n",
      "genero                     11946\n",
      "dtype: int64\n"
     ]
    }
   ],
   "source": [
    "missing_values = df.isnull().sum()\n",
    "print(\"Missing Values by Column:\")\n",
    "print(missing_values[missing_values > 0])"
   ]
  },
  {
   "cell_type": "code",
   "execution_count": 42,
   "id": "fbc0823c",
   "metadata": {},
   "outputs": [
    {
     "name": "stdout",
     "output_type": "stream",
     "text": [
      "Missing Values by Column:\n",
      "fecha_destino_recorrido    3379\n",
      "dtype: int64\n"
     ]
    }
   ],
   "source": [
    "# Asigning  \"Not Declared\" value to missing values in 'genero' column and checking the result\n",
    "df['genero'] = df['genero'].fillna(\"Not Declared\")\n",
    "missing_values = df.isnull().sum()\n",
    "print(\"Missing Values by Column:\")\n",
    "print(missing_values[missing_values > 0])"
   ]
  },
  {
   "cell_type": "code",
   "execution_count": 43,
   "id": "237c6941",
   "metadata": {},
   "outputs": [
    {
     "name": "stdout",
     "output_type": "stream",
     "text": [
      "Average duration of trips: 1274.83 seconds or 21.25 minutes\n"
     ]
    }
   ],
   "source": [
    "# Calculating mean duration of trips\n",
    "duration = df['duracion_recorrido'].mean()\n",
    "duration_minutes = round(duration / 60,2)\n",
    "print(f\"Average duration of trips: {duration:.2f} seconds or {duration_minutes} minutes\")"
   ]
  },
  {
   "cell_type": "code",
   "execution_count": 44,
   "id": "e1748512",
   "metadata": {},
   "outputs": [
    {
     "name": "stdout",
     "output_type": "stream",
     "text": [
      "Trips with zero duration: 37618\n",
      "3521666 trips with valid duration\n"
     ]
    }
   ],
   "source": [
    "# Filtering out trips with zero duration (to ensure that we only keep trips that have a valid duration)\n",
    "invalid_trips = df['duracion_recorrido'] == 0\n",
    "print(f\"Trips with zero duration: {invalid_trips.sum()}\")\n",
    "df = df[df['duracion_recorrido'] > 0]\n",
    "print(len(df), \"trips with valid duration\")\n",
    "\n"
   ]
  },
  {
   "cell_type": "code",
   "execution_count": 45,
   "id": "3e6725d4",
   "metadata": {},
   "outputs": [
    {
     "name": "stdout",
     "output_type": "stream",
     "text": [
      "MALE            2125819\n",
      "FEMALE          1121191\n",
      "OTHER            262831\n",
      "Not Declared      11825\n",
      "Name: genero, dtype: int64\n",
      "MALE            60.364015\n",
      "FEMALE          31.836949\n",
      "OTHER            7.463257\n",
      "Not Declared     0.335779\n",
      "Name: genero, dtype: float64\n"
     ]
    }
   ],
   "source": [
    "# Exploring gender distribution\n",
    "print(df['genero'].value_counts())\n",
    "print(df['genero'].value_counts(normalize=True) * 100)\n"
   ]
  },
  {
   "cell_type": "code",
   "execution_count": 46,
   "id": "297a817e",
   "metadata": {},
   "outputs": [
    {
     "name": "stdout",
     "output_type": "stream",
     "text": [
      "genero\n",
      "FEMALE          1393.320852\n",
      "MALE            1230.323298\n",
      "Not Declared    1058.475603\n",
      "OTHER           1321.497848\n",
      "Name: duracion_recorrido, dtype: float64\n"
     ]
    }
   ],
   "source": [
    "# Explorign diferences in trip duration by gender\n",
    "print(df.groupby('genero')['duracion_recorrido'].mean())\n"
   ]
  },
  {
   "cell_type": "code",
   "execution_count": 47,
   "id": "0a777c06",
   "metadata": {},
   "outputs": [
    {
     "name": "stdout",
     "output_type": "stream",
     "text": [
      "Number of unique users: 261432\n"
     ]
    }
   ],
   "source": [
    "# Calculating the number of unique users \n",
    "n_users = df['id_usuario'].nunique()\n",
    "print(f\"Number of unique users: {n_users}\")\n"
   ]
  },
  {
   "cell_type": "code",
   "execution_count": 48,
   "id": "0dc13caf",
   "metadata": {},
   "outputs": [
    {
     "name": "stdout",
     "output_type": "stream",
     "text": [
      "   id_usuario  n_trips\n",
      "0        24.0        1\n",
      "1        38.0       44\n",
      "2        42.0       11\n",
      "3        48.0        3\n",
      "4        59.0        1\n",
      "count    261432.000000\n",
      "mean         13.470677\n",
      "std          37.222423\n",
      "min           1.000000\n",
      "25%           1.000000\n",
      "50%           3.000000\n",
      "75%          10.000000\n",
      "max        8370.000000\n",
      "Name: n_trips, dtype: float64\n",
      "       id_usuario  n_trips\n",
      "72023    844251.0     8370\n",
      "6929      55590.0     1401\n",
      "1754      11188.0     1291\n",
      "11020     96905.0     1275\n",
      "46275    668737.0     1257\n",
      "11006     96713.0     1187\n",
      "5426      41176.0     1182\n",
      "594        3820.0     1040\n",
      "1954      12434.0      997\n",
      "9412      79281.0      985\n"
     ]
    }
   ],
   "source": [
    "#Calculating the number of trips per user \n",
    "#Groups the DataFrame by 'id_usuario' to count the number of trips (rows) for each unique user.\n",
    "\n",
    "n_trips_by_user = df.groupby('id_usuario').size().reset_index(name='n_trips')\n",
    "\n",
    "print(n_trips_by_user.head())\n",
    "print(n_trips_by_user['n_trips'].describe())\n",
    "print(n_trips_by_user.sort_values(by='n_trips', ascending=False).head(10))\n"
   ]
  },
  {
   "cell_type": "code",
   "execution_count": 49,
   "id": "f3e981a5",
   "metadata": {},
   "outputs": [
    {
     "name": "stdout",
     "output_type": "stream",
     "text": [
      "Number of one-time users: 69099\n",
      "Percentage of one-time users: 26.43%\n"
     ]
    }
   ],
   "source": [
    "one_time_users = n_trips_by_user[n_trips_by_user['n_trips'] == 1].shape[0]\n",
    "perc_one_time = (one_time_users / n_users) * 100\n",
    "print(f\"Number of one-time users: {one_time_users}\")\n",
    "print(f\"Percentage of one-time users: {perc_one_time:.2f}%\")"
   ]
  },
  {
   "cell_type": "code",
   "execution_count": 50,
   "id": "c67e8fcd",
   "metadata": {},
   "outputs": [
    {
     "name": "stdout",
     "output_type": "stream",
     "text": [
      "  fecha_origen hora_origen\n",
      "0   2024-01-23    18:36:00\n",
      "1   2024-01-23    22:41:20\n",
      "4   2024-01-23    15:18:39\n",
      "5   2024-01-23    17:48:05\n",
      "6   2024-01-23    21:17:38\n"
     ]
    }
   ],
   "source": [
    "# Dividing the 'fecha_origen_recorrido' into date and time components\n",
    "df['fecha_origen_recorrido'] = pd.to_datetime(df['fecha_origen_recorrido'], errors='coerce')\n",
    "df['fecha_origen'] = df['fecha_origen_recorrido'].dt.date\n",
    "df['hora_origen'] = df['fecha_origen_recorrido'].dt.time\n",
    "print(df[['fecha_origen', 'hora_origen']].head())"
   ]
  },
  {
   "cell_type": "code",
   "execution_count": 51,
   "id": "683e35b3",
   "metadata": {},
   "outputs": [
    {
     "data": {
      "text/plain": [
       "<AxesSubplot:title={'center':'Number of trips by Day'}, xlabel='Day', ylabel='Number of trips'>"
      ]
     },
     "execution_count": 51,
     "metadata": {},
     "output_type": "execute_result"
    },
    {
     "data": {
      "image/png": "[encoded data removed]",
      "text/plain": [
       "<Figure size 1200x600 with 1 Axes>"
      ]
     },
     "metadata": {},
     "output_type": "display_data"
    }
   ],
   "source": [
    "# Plotting the number of trips by hour\n",
    "trips_per_day = df['fecha_origen'].value_counts().sort_index()\n",
    "trips_per_day.plot(kind='line', figsize=(12, 6), title='Number of trips by Day', xlabel='Day', ylabel='Number of trips')"
   ]
  },
  {
   "cell_type": "code",
   "execution_count": 52,
   "id": "7516fc70",
   "metadata": {},
   "outputs": [
    {
     "data": {
      "text/plain": [
       "<AxesSubplot:title={'center':'Number of trips by Hour'}, xlabel='Hour', ylabel='Number of trips'>"
      ]
     },
     "execution_count": 52,
     "metadata": {},
     "output_type": "execute_result"
    },
    {
     "data": {
      "image/png": "[encoded data removed]",
      "text/plain": [
       "<Figure size 1200x600 with 1 Axes>"
      ]
     },
     "metadata": {},
     "output_type": "display_data"
    }
   ],
   "source": [
    "#Plotting the number of trips by hour\n",
    "trips_per_hour = df['hora_origen'].value_counts().sort_index()\n",
    "trips_per_hour.plot(kind='line', figsize=(12, 6), title='Number of trips by Hour', xlabel='Hour', ylabel='Number of trips')"
   ]
  },
  {
   "cell_type": "code",
   "execution_count": 53,
   "id": "d97c5555",
   "metadata": {},
   "outputs": [
    {
     "name": "stdout",
     "output_type": "stream",
     "text": [
      "                nombre_estacion_origen          nombre_estacion_destino  \\\n",
      "84723           368 - PLAZA DE LA SHOÁ           368 - PLAZA DE LA SHOÁ   \n",
      "71458  294 - PLAZOLETA RÍO DE LA PLATA  294 - PLAZOLETA RÍO DE LA PLATA   \n",
      "38456            152 - JULIETA LANTERI            152 - JULIETA LANTERI   \n",
      "1074                005 - Plaza Italia               005 - Plaza Italia   \n",
      "3523                    014 - Pacifico                   014 - Pacifico   \n",
      "27           001 - FACULTAD DE DERECHO        001 - FACULTAD DE DERECHO   \n",
      "53697        219 - Parque Chacabuco II        219 - Parque Chacabuco II   \n",
      "7607           029 - Parque Centenario          029 - Parque Centenario   \n",
      "62032      255 - BARRANCAS DE BELGRANO      255 - BARRANCAS DE BELGRANO   \n",
      "84428           368 - PLAZA DE LA SHOÁ                   014 - Pacifico   \n",
      "\n",
      "       frecuencia  \n",
      "84723        8076  \n",
      "71458        7754  \n",
      "38456        7281  \n",
      "1074         6611  \n",
      "3523         5118  \n",
      "27           4845  \n",
      "53697        4831  \n",
      "7607         4292  \n",
      "62032        4234  \n",
      "84428        4033  \n"
     ]
    }
   ],
   "source": [
    "# Finding the most frequent trips\n",
    "frequent_trips = df.groupby(['nombre_estacion_origen', 'nombre_estacion_destino']).size().reset_index(name='frecuencia')\n",
    "print(frequent_trips.sort_values(by='frecuencia', ascending=False).head(10))"
   ]
  },
  {
   "cell_type": "code",
   "execution_count": 54,
   "id": "0ffba582",
   "metadata": {},
   "outputs": [
    {
     "name": "stdout",
     "output_type": "stream",
     "text": [
      "Number of trips with the same origin and destination station (round trips): 473116\n",
      "Percentage of trips with the same origin and destination station (round trips): 13.43%\n",
      "    id_recorrido  duracion_recorrido fecha_origen_recorrido  \\\n",
      "6       20431004                1176    2024-01-23 21:17:38   \n",
      "17      20430002                   2    2024-01-23 20:09:36   \n",
      "18      20432304                2010    2024-01-24 00:11:41   \n",
      "48      20421060                3880    2024-01-23 09:36:17   \n",
      "71      20424130                2079    2024-01-23 14:26:49   \n",
      "\n",
      "    id_estacion_origen nombre_estacion_origen  \\\n",
      "6                   68  105 - PARQUE SAAVEDRA   \n",
      "17                 184    184 - Pedro Echague   \n",
      "18                 179         179 - CASA SAN   \n",
      "48                 418    345 - Plaza Mafalda   \n",
      "71                 508          170 - RAFAELA   \n",
      "\n",
      "                    direccion_estacion_origen  long_estacion_origen  \\\n",
      "6                         García del Río 3590            -58.480464   \n",
      "17  Pedro Echague 1878 & Combate De Los Pozos            -58.391342   \n",
      "18                              Olavarría 811            -58.364289   \n",
      "48                  Conde & Concepción Arenal            -58.444580   \n",
      "71                               Rafaela 4811            -58.494786   \n",
      "\n",
      "    lat_estacion_origen fecha_destino_recorrido  id_estacion_destino  \\\n",
      "6            -34.552148     2024-01-23 21:37:14                   68   \n",
      "17           -34.630613     2024-01-23 20:09:38                  184   \n",
      "18           -34.638479     2024-01-24 00:45:11                  179   \n",
      "48           -34.580938     2024-01-23 10:40:57                  418   \n",
      "71           -34.639172     2024-01-23 15:01:28                  508   \n",
      "\n",
      "   nombre_estacion_destino                 direccion_estacion_destino  \\\n",
      "6    105 - PARQUE SAAVEDRA                        García del Río 3590   \n",
      "17     184 - Pedro Echague  Pedro Echague 1878 & Combate De Los Pozos   \n",
      "18          179 - CASA SAN                              Olavarría 811   \n",
      "48     345 - Plaza Mafalda                  Conde & Concepción Arenal   \n",
      "71           170 - RAFAELA                               Rafaela 4811   \n",
      "\n",
      "    long_estacion_destino  lat_estacion_destino  id_usuario modelo_bicicleta  \\\n",
      "6              -58.480464            -34.552148   1041602.0           ICONIC   \n",
      "17             -58.391342            -34.630613   1093257.0              FIT   \n",
      "18             -58.364289            -34.638479   1090676.0              FIT   \n",
      "48             -58.444580            -34.580938   1073916.0              FIT   \n",
      "71             -58.494786            -34.639172   1089937.0           ICONIC   \n",
      "\n",
      "    genero fecha_origen hora_origen  same_origin_dest  \n",
      "6     MALE   2024-01-23    21:17:38              True  \n",
      "17  FEMALE   2024-01-23    20:09:36              True  \n",
      "18    MALE   2024-01-24    00:11:41              True  \n",
      "48  FEMALE   2024-01-23    09:36:17              True  \n",
      "71  FEMALE   2024-01-23    14:26:49              True  \n",
      "\n",
      "Average Duration: 1040.33 seconds\n",
      "Maximun Duration: 1826428.00 seconds\n",
      "Minimun Duration: 1.00 seconds\n",
      "\n",
      "Descriptives:\n",
      "count    4.731160e+05\n",
      "mean     1.040331e+03\n",
      "std      7.147380e+03\n",
      "min      1.000000e+00\n",
      "25%      2.200000e+01\n",
      "50%      7.800000e+01\n",
      "75%      1.499000e+03\n",
      "max      1.826428e+06\n",
      "Name: duracion_recorrido, dtype: float64\n",
      "\n",
      "Top 5 stations for round trips\n",
      "368 - PLAZA DE LA SHOÁ             8076\n",
      "294 - PLAZOLETA RÍO DE LA PLATA    7754\n",
      "152 - JULIETA LANTERI              7281\n",
      "005 - Plaza Italia                 6611\n",
      "014 - Pacifico                     5118\n",
      "Name: nombre_estacion_origen, dtype: int64\n"
     ]
    }
   ],
   "source": [
    "# explorign trips with the same origin and destination\n",
    "\n",
    "df['same_origin_dest'] = (df['nombre_estacion_origen'] == df['nombre_estacion_destino'])\n",
    "count_same_od = df['same_origin_dest'].sum()\n",
    "total_trips = len(df)\n",
    "percentage_same_od = (count_same_od / total_trips) * 100\n",
    "\n",
    "print(f\"Number of trips with the same origin and destination station (round trips): {count_same_od}\")\n",
    "print(f\"Percentage of trips with the same origin and destination station (round trips): {percentage_same_od:.2f}%\")\n",
    "\n",
    "if percentage_same_od > 0:\n",
    "   same_od_trips = df[df['same_origin_dest']]\n",
    "   print(same_od_trips.head())\n",
    "   print(f\"\\nAverage Duration: {same_od_trips['duracion_recorrido'].mean():.2f} seconds\")\n",
    "   print(f\"Maximun Duration: {same_od_trips['duracion_recorrido'].max():.2f} seconds\")\n",
    "   print(f\"Minimun Duration: {same_od_trips['duracion_recorrido'].min():.2f} seconds\")\n",
    "   print(\"\\nDescriptives:\")\n",
    "   print(same_od_trips['duracion_recorrido'].describe())\n",
    "   print(\"\\nTop 5 stations for round trips\")\n",
    "   print(same_od_trips['nombre_estacion_origen'].value_counts().head(5))\n"
   ]
  },
  {
   "cell_type": "code",
   "execution_count": 55,
   "id": "9489b1a2",
   "metadata": {
    "vscode": {
     "languageId": "ruby"
    }
   },
   "outputs": [],
   "source": [
    "# As we are interested in see pattern of trip during the week, we will create a variable that indicates if the trip was made on a weekend or holiday.\n",
    "\n",
    "df['fecha_origen_dt'] = pd.to_datetime(df['fecha_origen'], errors='coerce')\n",
    "\n",
    "# Identifing weekends: Saturday (5) and Sunday (6)\n",
    "is_weekend = (df['fecha_origen_dt'].dt.dayofweek == 5) | (df['fecha_origen_dt'].dt.dayofweek == 6)\n",
    "\n",
    "# Identifing holidays in Argentina using the holidays library\n",
    "holiday_argentina = holidays.Argentina(years=df['fecha_origen_dt'].dt.year.unique().tolist())\n",
    "is_holiday = df['fecha_origen_dt'].dt.date.isin(holiday_argentina)\n",
    "\n",
    "# Creating variable \"is_weekend\": 1 saturday, sunday or holiday, 0 otherwise\n",
    "df['is_weekend'] = (is_weekend | is_holiday).astype(int)"
   ]
  },
  {
   "cell_type": "code",
   "execution_count": 56,
   "id": "ff441d84",
   "metadata": {
    "vscode": {
     "languageId": "ruby"
    }
   },
   "outputs": [
    {
     "name": "stdout",
     "output_type": "stream",
     "text": [
      "0    2978268\n",
      "1     543398\n",
      "Name: is_weekend, dtype: int64\n"
     ]
    }
   ],
   "source": [
    "# Display the counts of trips made on weekends or holidays\n",
    "print(df['is_weekend'].value_counts())"
   ]
  },
  {
   "cell_type": "code",
   "execution_count": 57,
   "id": "ea9b67df",
   "metadata": {},
   "outputs": [],
   "source": [
    "# We want to improve the readability of station names for the dashboard, so we build a custom function to clean the station names.\n",
    "# This function handles two main tasks:\n",
    "# 1. Removing the initial numerical code from the station names.\n",
    "# 2. Applying a specific Spanish title case format:\n",
    "#    - The first letter of each word is capitalized.\n",
    "#    - Short articles and prepositions (like \"de\", \"la\", \"el\") remain lowercase, \n",
    "#   unless they are the very first word of the name.\n",
    "# Standard methods like `str.title()` or `str.capitalize()` don't offer this granular control.\n",
    "def clean_name(name):\n",
    "    minor_words = {\n",
    "        \"de\", \"del\", \"y\", \"el\", \"la\", \"los\", \"las\"\n",
    "    }\n",
    "\n",
    "    name_str = str(name) \n",
    "\n",
    "    if '-' in name_str:\n",
    "        text = name_str.split('-', 1)[1].strip()\n",
    "    else:\n",
    "        text = name_str.strip()\n",
    "    \n",
    "    text_lower = text.lower()\n",
    "    \n",
    "    words = text_lower.split()\n",
    "    \n",
    "    final_words = []\n",
    "    for i, word in enumerate(words):\n",
    "        if i == 0:\n",
    "            final_words.append(word.capitalize())\n",
    "        elif word in minor_words:\n",
    "            final_words.append(word)\n",
    "        else:\n",
    "            final_words.append(word.capitalize())\n",
    "            \n",
    "    return \" \".join(final_words)\n",
    "\n",
    "df['nombre_estacion_origen_clean'] = df['nombre_estacion_origen'].apply(clean_name)\n",
    "df['nombre_estacion_destino_clean'] = df['nombre_estacion_destino'].apply(clean_name)"
   ]
  },
  {
   "cell_type": "code",
   "execution_count": 58,
   "id": "400be3cf",
   "metadata": {},
   "outputs": [
    {
     "name": "stdout",
     "output_type": "stream",
     "text": [
      "Constitución             37892\n",
      "Pacifico                 37119\n",
      "Plaza de la Shoá         36687\n",
      "Plaza Italia             34121\n",
      "Facultad de Derecho      30570\n",
      "Congreso                 30090\n",
      "Retiro Ii                29056\n",
      "Julieta Lanteri          27893\n",
      "Barrancas de Belgrano    27349\n",
      "Hospital de Clínicas     26742\n",
      "Name: nombre_estacion_origen_clean, dtype: int64\n",
      "Constitución             37944\n",
      "Pacifico                 36887\n",
      "Plaza de la Shoá         36737\n",
      "Plaza Italia             34325\n",
      "Facultad de Derecho      30616\n",
      "Congreso                 30314\n",
      "Retiro Ii                28940\n",
      "Julieta Lanteri          28804\n",
      "Barrancas de Belgrano    27622\n",
      "Carlos Gardel            26889\n",
      "Name: nombre_estacion_destino_clean, dtype: int64\n"
     ]
    }
   ],
   "source": [
    "print(df['nombre_estacion_origen_clean'].value_counts().head(10))\n",
    "print(df['nombre_estacion_destino_clean'].value_counts().head(10))\n"
   ]
  },
  {
   "cell_type": "code",
   "execution_count": 59,
   "id": "8f86d771",
   "metadata": {},
   "outputs": [
    {
     "data": {
      "text/plain": [
       "(3521666, 24)"
      ]
     },
     "execution_count": 59,
     "metadata": {},
     "output_type": "execute_result"
    }
   ],
   "source": [
    "df.shape"
   ]
  },
  {
   "cell_type": "code",
   "execution_count": null,
   "id": "477dca89",
   "metadata": {},
   "outputs": [
    {
     "name": "stdout",
     "output_type": "stream",
     "text": [
      "      nombre_estacion_origen_clean nombre_estacion_destino_clean  frecuencia\n",
      "73402             Plaza de la Shoá              Plaza de la Shoá        8076\n",
      "75222    Plazoleta Río de la Plata     Plazoleta Río de la Plata        7754\n",
      "41189              Julieta Lanteri               Julieta Lanteri        7281\n",
      "66298                 Plaza Italia                  Plaza Italia        6611\n",
      "51698                     Pacifico                      Pacifico        5118\n",
      "25735          Facultad de Derecho           Facultad de Derecho        4845\n",
      "53249          Parque Chacabuco Ii           Parque Chacabuco Ii        4831\n",
      "52958            Parque Centenario             Parque Centenario        4292\n",
      "9855         Barrancas de Belgrano         Barrancas de Belgrano        4234\n",
      "73325             Plaza de la Shoá                      Pacifico        4033\n"
     ]
    }
   ],
   "source": [
    "# Finding the most frequent trips\n",
    "frequent_trips = df.groupby(['nombre_estacion_origen_clean', 'nombre_estacion_destino_clean']).size().reset_index(name='frecuencia')\n",
    "print(frequent_trips.sort_values(by='frecuencia', ascending=False).head(10))"
   ]
  },
  {
   "cell_type": "code",
   "execution_count": null,
   "id": "dff3011e",
   "metadata": {},
   "outputs": [],
   "source": [
    "# Saving the cleaned DataFrame to a new CSV file\n",
    "output_file_path = os.path.join('data', 'recorridos_2024.csv')\n",
    "df.to_csv(output_file_path, sep=',', encoding='utf-8', index=False)"
   ]
  }
 ],
 "metadata": {
  "kernelspec": {
   "display_name": "Python 3",
   "language": "python",
   "name": "python3"
  },
  "language_info": {
   "codemirror_mode": {
    "name": "ipython",
    "version": 3
   },
   "file_extension": ".py",
   "mimetype": "text/x-python",
   "name": "python",
   "nbconvert_exporter": "python",
   "pygments_lexer": "ipython3",
   "version": "3.10.7"
  }
 },
 "nbformat": 4,
 "nbformat_minor": 5
}
